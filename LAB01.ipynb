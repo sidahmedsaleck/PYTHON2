{
 "cells": [
  {
   "cell_type": "code",
   "execution_count": 19,
   "id": "4a73e415",
   "metadata": {},
   "outputs": [],
   "source": [
    "from math import *"
   ]
  },
  {
   "cell_type": "code",
   "execution_count": 1,
   "id": "78252468",
   "metadata": {},
   "outputs": [
    {
     "name": "stdout",
     "output_type": "stream",
     "text": [
      "les coordonees de a: x=1,y=2\n"
     ]
    }
   ],
   "source": [
    "class Point:\n",
    "    def deplacer(self,dx,dy):\n",
    "        self.x+=dx\n",
    "        self.y+=dy\n",
    "\n",
    "a=Point()\n",
    "a.x=1\n",
    "a.y=2\n",
    "print(f\"les coordonees de a: x={a.x},y={a.y}\")\n"
   ]
  },
  {
   "cell_type": "code",
   "execution_count": 2,
   "id": "37cc56f3",
   "metadata": {},
   "outputs": [],
   "source": [
    "\n",
    "b=Point()\n",
    "b.x=0.5\n",
    "b.y=3.6"
   ]
  },
  {
   "cell_type": "code",
   "execution_count": 17,
   "id": "152ed5e3",
   "metadata": {},
   "outputs": [
    {
     "data": {
      "text/plain": [
       "[<matplotlib.lines.Line2D at 0x7fddd8084100>]"
      ]
     },
     "execution_count": 17,
     "metadata": {},
     "output_type": "execute_result"
    },
    {
     "data": {
      "image/png": "[encoded data removed]",
      "text/plain": [
       "<Figure size 432x288 with 1 Axes>"
      ]
     },
     "metadata": {
      "needs_background": "light"
     },
     "output_type": "display_data"
    }
   ],
   "source": [
    "\n",
    "import numpy as np\n",
    "import matplotlib.pyplot as plt\n",
    "\n",
    "plt.plot([a.x,a.y],[b.x,b.y],\"*\")\n"
   ]
  },
  {
   "cell_type": "markdown",
   "id": "6dacbed4",
   "metadata": {},
   "source": [
    "representation fausse des points a et b"
   ]
  },
  {
   "cell_type": "code",
   "execution_count": null,
   "id": "2624b614",
   "metadata": {},
   "outputs": [],
   "source": []
  },
  {
   "cell_type": "code",
   "execution_count": 4,
   "id": "d7c64469",
   "metadata": {},
   "outputs": [
    {
     "data": {
      "text/plain": [
       "[<matplotlib.lines.Line2D at 0x7fde28669940>]"
      ]
     },
     "execution_count": 4,
     "metadata": {},
     "output_type": "execute_result"
    },
    {
     "data": {
      "image/png": "[encoded data removed]",
      "text/plain": [
       "<Figure size 432x288 with 1 Axes>"
      ]
     },
     "metadata": {
      "needs_background": "light"
     },
     "output_type": "display_data"
    }
   ],
   "source": [
    "a.deplacer(2,1)\n",
    "\n",
    "plt.plot([a.x],[a.y],\"*\")"
   ]
  },
  {
   "cell_type": "markdown",
   "id": "d911c259",
   "metadata": {},
   "source": [
    "a(3.0,3.0)"
   ]
  },
  {
   "cell_type": "code",
   "execution_count": null,
   "id": "264b1c30",
   "metadata": {},
   "outputs": [],
   "source": []
  },
  {
   "cell_type": "code",
   "execution_count": 5,
   "id": "6a65f56b",
   "metadata": {},
   "outputs": [],
   "source": [
    "class Point2:\n",
    "    def __init__(self,x=0,y=0):\n",
    "        self.x=x\n",
    "        self.y=y\n",
    "        "
   ]
  },
  {
   "cell_type": "code",
   "execution_count": 6,
   "id": "258b1b99",
   "metadata": {},
   "outputs": [],
   "source": [
    "c=Point2(2.5,1.7)"
   ]
  },
  {
   "cell_type": "code",
   "execution_count": 56,
   "id": "a50b30e0",
   "metadata": {},
   "outputs": [],
   "source": [
    "class Point3:\n",
    "    def __init__(self,x=0,y=0):\n",
    "        self.x=x\n",
    "        self.y=y\n",
    "    def get_x(self):\n",
    "        return self.x\n",
    "    def get_y(self):\n",
    "        return self.y\n",
    "    def set_x(self,x):\n",
    "        self.x=x\n",
    "    def set_y(self,y):\n",
    "        self.y=y\n",
    "    def distance(self,P2):\n",
    "        dist= round(sqrt((self.x - P2.x)**2 + (self.y-P2.y)**2 ),4)\n",
    "        print(f\"distance:{dist}\")\n",
    "    def milieu(self,b):\n",
    "        xm= round((self.x+b.x)/2,4)\n",
    "        ym= round((self.y+b.y)/2,4)\n",
    "        print(f\"le milieu du segment:M({xm},{ym})\")"
   ]
  },
  {
   "cell_type": "code",
   "execution_count": 61,
   "id": "74c1ab34",
   "metadata": {},
   "outputs": [
    {
     "name": "stdout",
     "output_type": "stream",
     "text": [
      "2\n",
      "3\n"
     ]
    }
   ],
   "source": [
    "M=Point3(2,3)\n",
    "N=Point3(4,5)\n",
    "print(M.get_x())\n",
    "print(M.get_y())\n",
    "M.set_x(5)\n",
    "M.set_y(7)"
   ]
  },
  {
   "cell_type": "code",
   "execution_count": 62,
   "id": "ee5bcdf8",
   "metadata": {},
   "outputs": [
    {
     "name": "stdout",
     "output_type": "stream",
     "text": [
      "distance:2.2361\n"
     ]
    }
   ],
   "source": [
    "M.distance(N)"
   ]
  },
  {
   "cell_type": "code",
   "execution_count": 39,
   "id": "943508bb",
   "metadata": {},
   "outputs": [
    {
     "name": "stdout",
     "output_type": "stream",
     "text": [
      "le milieu du segment:M(3.0,4.0)\n"
     ]
    }
   ],
   "source": [
    "M.milieu(N)"
   ]
  },
  {
   "cell_type": "code",
   "execution_count": null,
   "id": "ceb5a7f7",
   "metadata": {},
   "outputs": [],
   "source": []
  }
 ],
 "metadata": {
  "kernelspec": {
   "display_name": "Python 3 (ipykernel)",
   "language": "python",
   "name": "python3"
  },
  "language_info": {
   "codemirror_mode": {
    "name": "ipython",
    "version": 3
   },
   "file_extension": ".py",
   "mimetype": "text/x-python",
   "name": "python",
   "nbconvert_exporter": "python",
   "pygments_lexer": "ipython3",
   "version": "3.9.7"
  }
 },
 "nbformat": 4,
 "nbformat_minor": 5
}
